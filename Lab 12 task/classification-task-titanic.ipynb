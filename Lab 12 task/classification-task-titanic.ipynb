{
 "cells": [
  {
   "cell_type": "code",
   "execution_count": null,
   "id": "05b5fba3",
   "metadata": {
    "execution": {
     "iopub.execute_input": "2024-12-04T19:33:11.067516Z",
     "iopub.status.busy": "2024-12-04T19:33:11.067094Z",
     "iopub.status.idle": "2024-12-04T19:33:14.791683Z",
     "shell.execute_reply": "2024-12-04T19:33:14.789965Z"
    },
    "papermill": {
     "duration": 3.735516,
     "end_time": "2024-12-04T19:33:14.795315",
     "exception": false,
     "start_time": "2024-12-04T19:33:11.059799",
     "status": "completed"
    },
    "tags": []
   },
   "outputs": [],
   "source": [
    "import pandas as pd\n",
    "import numpy as np\n",
    "\n",
    "from sklearn.model_selection import train_test_split\n",
    "from sklearn.tree import DecisionTreeClassifier\n",
    "from sklearn.metrics import accuracy_score"
   ]
  },
  {
   "cell_type": "markdown",
   "id": "13dd8364",
   "metadata": {
    "papermill": {
     "duration": 0.004696,
     "end_time": "2024-12-04T19:33:14.806925",
     "exception": false,
     "start_time": "2024-12-04T19:33:14.802229",
     "status": "completed"
    },
    "tags": []
   },
   "source": [
    "> ***Loading data set***"
   ]
  },
  {
   "cell_type": "code",
   "execution_count": 2,
   "id": "f7a8657c",
   "metadata": {
    "execution": {
     "iopub.execute_input": "2024-12-04T19:33:14.818311Z",
     "iopub.status.busy": "2024-12-04T19:33:14.817554Z",
     "iopub.status.idle": "2024-12-04T19:33:14.847179Z",
     "shell.execute_reply": "2024-12-04T19:33:14.845719Z"
    },
    "papermill": {
     "duration": 0.03825,
     "end_time": "2024-12-04T19:33:14.849816",
     "exception": false,
     "start_time": "2024-12-04T19:33:14.811566",
     "status": "completed"
    },
    "tags": []
   },
   "outputs": [],
   "source": [
    "df = pd.read_csv(\"train.csv\")"
   ]
  },
  {
   "cell_type": "code",
   "execution_count": 3,
   "id": "e82d0878",
   "metadata": {
    "execution": {
     "iopub.execute_input": "2024-12-04T19:33:14.862454Z",
     "iopub.status.busy": "2024-12-04T19:33:14.861905Z",
     "iopub.status.idle": "2024-12-04T19:33:14.896524Z",
     "shell.execute_reply": "2024-12-04T19:33:14.895311Z"
    },
    "papermill": {
     "duration": 0.044339,
     "end_time": "2024-12-04T19:33:14.900186",
     "exception": false,
     "start_time": "2024-12-04T19:33:14.855847",
     "status": "completed"
    },
    "scrolled": true,
    "tags": []
   },
   "outputs": [
    {
     "data": {
      "text/html": [
       "<div>\n",
       "<style scoped>\n",
       "    .dataframe tbody tr th:only-of-type {\n",
       "        vertical-align: middle;\n",
       "    }\n",
       "\n",
       "    .dataframe tbody tr th {\n",
       "        vertical-align: top;\n",
       "    }\n",
       "\n",
       "    .dataframe thead th {\n",
       "        text-align: right;\n",
       "    }\n",
       "</style>\n",
       "<table border=\"1\" class=\"dataframe\">\n",
       "  <thead>\n",
       "    <tr style=\"text-align: right;\">\n",
       "      <th></th>\n",
       "      <th>PassengerId</th>\n",
       "      <th>Survived</th>\n",
       "      <th>Pclass</th>\n",
       "      <th>Name</th>\n",
       "      <th>Sex</th>\n",
       "      <th>Age</th>\n",
       "      <th>SibSp</th>\n",
       "      <th>Parch</th>\n",
       "      <th>Ticket</th>\n",
       "      <th>Fare</th>\n",
       "      <th>Cabin</th>\n",
       "      <th>Embarked</th>\n",
       "    </tr>\n",
       "  </thead>\n",
       "  <tbody>\n",
       "    <tr>\n",
       "      <th>0</th>\n",
       "      <td>1</td>\n",
       "      <td>0</td>\n",
       "      <td>3</td>\n",
       "      <td>Braund, Mr. Owen Harris</td>\n",
       "      <td>male</td>\n",
       "      <td>22.0</td>\n",
       "      <td>1</td>\n",
       "      <td>0</td>\n",
       "      <td>A/5 21171</td>\n",
       "      <td>7.2500</td>\n",
       "      <td>NaN</td>\n",
       "      <td>S</td>\n",
       "    </tr>\n",
       "    <tr>\n",
       "      <th>1</th>\n",
       "      <td>2</td>\n",
       "      <td>1</td>\n",
       "      <td>1</td>\n",
       "      <td>Cumings, Mrs. John Bradley (Florence Briggs Th...</td>\n",
       "      <td>female</td>\n",
       "      <td>38.0</td>\n",
       "      <td>1</td>\n",
       "      <td>0</td>\n",
       "      <td>PC 17599</td>\n",
       "      <td>71.2833</td>\n",
       "      <td>C85</td>\n",
       "      <td>C</td>\n",
       "    </tr>\n",
       "    <tr>\n",
       "      <th>2</th>\n",
       "      <td>3</td>\n",
       "      <td>1</td>\n",
       "      <td>3</td>\n",
       "      <td>Heikkinen, Miss. Laina</td>\n",
       "      <td>female</td>\n",
       "      <td>26.0</td>\n",
       "      <td>0</td>\n",
       "      <td>0</td>\n",
       "      <td>STON/O2. 3101282</td>\n",
       "      <td>7.9250</td>\n",
       "      <td>NaN</td>\n",
       "      <td>S</td>\n",
       "    </tr>\n",
       "    <tr>\n",
       "      <th>3</th>\n",
       "      <td>4</td>\n",
       "      <td>1</td>\n",
       "      <td>1</td>\n",
       "      <td>Futrelle, Mrs. Jacques Heath (Lily May Peel)</td>\n",
       "      <td>female</td>\n",
       "      <td>35.0</td>\n",
       "      <td>1</td>\n",
       "      <td>0</td>\n",
       "      <td>113803</td>\n",
       "      <td>53.1000</td>\n",
       "      <td>C123</td>\n",
       "      <td>S</td>\n",
       "    </tr>\n",
       "    <tr>\n",
       "      <th>4</th>\n",
       "      <td>5</td>\n",
       "      <td>0</td>\n",
       "      <td>3</td>\n",
       "      <td>Allen, Mr. William Henry</td>\n",
       "      <td>male</td>\n",
       "      <td>35.0</td>\n",
       "      <td>0</td>\n",
       "      <td>0</td>\n",
       "      <td>373450</td>\n",
       "      <td>8.0500</td>\n",
       "      <td>NaN</td>\n",
       "      <td>S</td>\n",
       "    </tr>\n",
       "  </tbody>\n",
       "</table>\n",
       "</div>"
      ],
      "text/plain": [
       "   PassengerId  Survived  Pclass  \\\n",
       "0            1         0       3   \n",
       "1            2         1       1   \n",
       "2            3         1       3   \n",
       "3            4         1       1   \n",
       "4            5         0       3   \n",
       "\n",
       "                                                Name     Sex   Age  SibSp  \\\n",
       "0                            Braund, Mr. Owen Harris    male  22.0      1   \n",
       "1  Cumings, Mrs. John Bradley (Florence Briggs Th...  female  38.0      1   \n",
       "2                             Heikkinen, Miss. Laina  female  26.0      0   \n",
       "3       Futrelle, Mrs. Jacques Heath (Lily May Peel)  female  35.0      1   \n",
       "4                           Allen, Mr. William Henry    male  35.0      0   \n",
       "\n",
       "   Parch            Ticket     Fare Cabin Embarked  \n",
       "0      0         A/5 21171   7.2500   NaN        S  \n",
       "1      0          PC 17599  71.2833   C85        C  \n",
       "2      0  STON/O2. 3101282   7.9250   NaN        S  \n",
       "3      0            113803  53.1000  C123        S  \n",
       "4      0            373450   8.0500   NaN        S  "
      ]
     },
     "execution_count": 3,
     "metadata": {},
     "output_type": "execute_result"
    }
   ],
   "source": [
    "df.head()"
   ]
  },
  {
   "cell_type": "markdown",
   "id": "3bf13852",
   "metadata": {
    "papermill": {
     "duration": 0.007381,
     "end_time": "2024-12-04T19:33:14.916123",
     "exception": false,
     "start_time": "2024-12-04T19:33:14.908742",
     "status": "completed"
    },
    "tags": []
   },
   "source": [
    "> ***Some details about dataset***"
   ]
  },
  {
   "cell_type": "code",
   "execution_count": 4,
   "id": "ac58f0f0",
   "metadata": {
    "execution": {
     "iopub.execute_input": "2024-12-04T19:33:14.928170Z",
     "iopub.status.busy": "2024-12-04T19:33:14.927238Z",
     "iopub.status.idle": "2024-12-04T19:33:14.934391Z",
     "shell.execute_reply": "2024-12-04T19:33:14.933289Z"
    },
    "papermill": {
     "duration": 0.015999,
     "end_time": "2024-12-04T19:33:14.937071",
     "exception": false,
     "start_time": "2024-12-04T19:33:14.921072",
     "status": "completed"
    },
    "tags": []
   },
   "outputs": [
    {
     "data": {
      "text/plain": [
       "(891, 12)"
      ]
     },
     "execution_count": 4,
     "metadata": {},
     "output_type": "execute_result"
    }
   ],
   "source": [
    "df.shape"
   ]
  },
  {
   "cell_type": "code",
   "execution_count": 5,
   "id": "40070d5a",
   "metadata": {
    "execution": {
     "iopub.execute_input": "2024-12-04T19:33:14.953971Z",
     "iopub.status.busy": "2024-12-04T19:33:14.953016Z",
     "iopub.status.idle": "2024-12-04T19:33:14.990788Z",
     "shell.execute_reply": "2024-12-04T19:33:14.989216Z"
    },
    "papermill": {
     "duration": 0.047528,
     "end_time": "2024-12-04T19:33:14.993307",
     "exception": false,
     "start_time": "2024-12-04T19:33:14.945779",
     "status": "completed"
    },
    "tags": []
   },
   "outputs": [
    {
     "name": "stdout",
     "output_type": "stream",
     "text": [
      "<class 'pandas.core.frame.DataFrame'>\n",
      "RangeIndex: 891 entries, 0 to 890\n",
      "Data columns (total 12 columns):\n",
      " #   Column       Non-Null Count  Dtype  \n",
      "---  ------       --------------  -----  \n",
      " 0   PassengerId  891 non-null    int64  \n",
      " 1   Survived     891 non-null    int64  \n",
      " 2   Pclass       891 non-null    int64  \n",
      " 3   Name         891 non-null    object \n",
      " 4   Sex          891 non-null    object \n",
      " 5   Age          714 non-null    float64\n",
      " 6   SibSp        891 non-null    int64  \n",
      " 7   Parch        891 non-null    int64  \n",
      " 8   Ticket       891 non-null    object \n",
      " 9   Fare         891 non-null    float64\n",
      " 10  Cabin        204 non-null    object \n",
      " 11  Embarked     889 non-null    object \n",
      "dtypes: float64(2), int64(5), object(5)\n",
      "memory usage: 83.7+ KB\n"
     ]
    }
   ],
   "source": [
    "df.info()"
   ]
  },
  {
   "cell_type": "code",
   "execution_count": 6,
   "id": "b6307552",
   "metadata": {
    "execution": {
     "iopub.execute_input": "2024-12-04T19:33:15.014877Z",
     "iopub.status.busy": "2024-12-04T19:33:15.014246Z",
     "iopub.status.idle": "2024-12-04T19:33:15.060596Z",
     "shell.execute_reply": "2024-12-04T19:33:15.059379Z"
    },
    "papermill": {
     "duration": 0.060174,
     "end_time": "2024-12-04T19:33:15.063175",
     "exception": false,
     "start_time": "2024-12-04T19:33:15.003001",
     "status": "completed"
    },
    "tags": []
   },
   "outputs": [
    {
     "data": {
      "text/html": [
       "<div>\n",
       "<style scoped>\n",
       "    .dataframe tbody tr th:only-of-type {\n",
       "        vertical-align: middle;\n",
       "    }\n",
       "\n",
       "    .dataframe tbody tr th {\n",
       "        vertical-align: top;\n",
       "    }\n",
       "\n",
       "    .dataframe thead th {\n",
       "        text-align: right;\n",
       "    }\n",
       "</style>\n",
       "<table border=\"1\" class=\"dataframe\">\n",
       "  <thead>\n",
       "    <tr style=\"text-align: right;\">\n",
       "      <th></th>\n",
       "      <th>PassengerId</th>\n",
       "      <th>Survived</th>\n",
       "      <th>Pclass</th>\n",
       "      <th>Age</th>\n",
       "      <th>SibSp</th>\n",
       "      <th>Parch</th>\n",
       "      <th>Fare</th>\n",
       "    </tr>\n",
       "  </thead>\n",
       "  <tbody>\n",
       "    <tr>\n",
       "      <th>count</th>\n",
       "      <td>891.000000</td>\n",
       "      <td>891.000000</td>\n",
       "      <td>891.000000</td>\n",
       "      <td>714.000000</td>\n",
       "      <td>891.000000</td>\n",
       "      <td>891.000000</td>\n",
       "      <td>891.000000</td>\n",
       "    </tr>\n",
       "    <tr>\n",
       "      <th>mean</th>\n",
       "      <td>446.000000</td>\n",
       "      <td>0.383838</td>\n",
       "      <td>2.308642</td>\n",
       "      <td>29.699118</td>\n",
       "      <td>0.523008</td>\n",
       "      <td>0.381594</td>\n",
       "      <td>32.204208</td>\n",
       "    </tr>\n",
       "    <tr>\n",
       "      <th>std</th>\n",
       "      <td>257.353842</td>\n",
       "      <td>0.486592</td>\n",
       "      <td>0.836071</td>\n",
       "      <td>14.526497</td>\n",
       "      <td>1.102743</td>\n",
       "      <td>0.806057</td>\n",
       "      <td>49.693429</td>\n",
       "    </tr>\n",
       "    <tr>\n",
       "      <th>min</th>\n",
       "      <td>1.000000</td>\n",
       "      <td>0.000000</td>\n",
       "      <td>1.000000</td>\n",
       "      <td>0.420000</td>\n",
       "      <td>0.000000</td>\n",
       "      <td>0.000000</td>\n",
       "      <td>0.000000</td>\n",
       "    </tr>\n",
       "    <tr>\n",
       "      <th>25%</th>\n",
       "      <td>223.500000</td>\n",
       "      <td>0.000000</td>\n",
       "      <td>2.000000</td>\n",
       "      <td>20.125000</td>\n",
       "      <td>0.000000</td>\n",
       "      <td>0.000000</td>\n",
       "      <td>7.910400</td>\n",
       "    </tr>\n",
       "    <tr>\n",
       "      <th>50%</th>\n",
       "      <td>446.000000</td>\n",
       "      <td>0.000000</td>\n",
       "      <td>3.000000</td>\n",
       "      <td>28.000000</td>\n",
       "      <td>0.000000</td>\n",
       "      <td>0.000000</td>\n",
       "      <td>14.454200</td>\n",
       "    </tr>\n",
       "    <tr>\n",
       "      <th>75%</th>\n",
       "      <td>668.500000</td>\n",
       "      <td>1.000000</td>\n",
       "      <td>3.000000</td>\n",
       "      <td>38.000000</td>\n",
       "      <td>1.000000</td>\n",
       "      <td>0.000000</td>\n",
       "      <td>31.000000</td>\n",
       "    </tr>\n",
       "    <tr>\n",
       "      <th>max</th>\n",
       "      <td>891.000000</td>\n",
       "      <td>1.000000</td>\n",
       "      <td>3.000000</td>\n",
       "      <td>80.000000</td>\n",
       "      <td>8.000000</td>\n",
       "      <td>6.000000</td>\n",
       "      <td>512.329200</td>\n",
       "    </tr>\n",
       "  </tbody>\n",
       "</table>\n",
       "</div>"
      ],
      "text/plain": [
       "       PassengerId    Survived      Pclass         Age       SibSp  \\\n",
       "count   891.000000  891.000000  891.000000  714.000000  891.000000   \n",
       "mean    446.000000    0.383838    2.308642   29.699118    0.523008   \n",
       "std     257.353842    0.486592    0.836071   14.526497    1.102743   \n",
       "min       1.000000    0.000000    1.000000    0.420000    0.000000   \n",
       "25%     223.500000    0.000000    2.000000   20.125000    0.000000   \n",
       "50%     446.000000    0.000000    3.000000   28.000000    0.000000   \n",
       "75%     668.500000    1.000000    3.000000   38.000000    1.000000   \n",
       "max     891.000000    1.000000    3.000000   80.000000    8.000000   \n",
       "\n",
       "            Parch        Fare  \n",
       "count  891.000000  891.000000  \n",
       "mean     0.381594   32.204208  \n",
       "std      0.806057   49.693429  \n",
       "min      0.000000    0.000000  \n",
       "25%      0.000000    7.910400  \n",
       "50%      0.000000   14.454200  \n",
       "75%      0.000000   31.000000  \n",
       "max      6.000000  512.329200  "
      ]
     },
     "execution_count": 6,
     "metadata": {},
     "output_type": "execute_result"
    }
   ],
   "source": [
    "df.describe()"
   ]
  },
  {
   "cell_type": "code",
   "execution_count": 7,
   "id": "5cc57198",
   "metadata": {
    "execution": {
     "iopub.execute_input": "2024-12-04T19:33:15.076510Z",
     "iopub.status.busy": "2024-12-04T19:33:15.075959Z",
     "iopub.status.idle": "2024-12-04T19:33:15.088923Z",
     "shell.execute_reply": "2024-12-04T19:33:15.087418Z"
    },
    "papermill": {
     "duration": 0.022823,
     "end_time": "2024-12-04T19:33:15.091790",
     "exception": false,
     "start_time": "2024-12-04T19:33:15.068967",
     "status": "completed"
    },
    "tags": []
   },
   "outputs": [
    {
     "data": {
      "text/plain": [
       "PassengerId      0\n",
       "Survived         0\n",
       "Pclass           0\n",
       "Name             0\n",
       "Sex              0\n",
       "Age            177\n",
       "SibSp            0\n",
       "Parch            0\n",
       "Ticket           0\n",
       "Fare             0\n",
       "Cabin          687\n",
       "Embarked         2\n",
       "dtype: int64"
      ]
     },
     "execution_count": 7,
     "metadata": {},
     "output_type": "execute_result"
    }
   ],
   "source": [
    "df.isnull().sum()"
   ]
  },
  {
   "cell_type": "markdown",
   "id": "3604d872",
   "metadata": {
    "papermill": {
     "duration": 0.007235,
     "end_time": "2024-12-04T19:33:15.109134",
     "exception": false,
     "start_time": "2024-12-04T19:33:15.101899",
     "status": "completed"
    },
    "tags": []
   },
   "source": [
    "> ***visualization Eda***"
   ]
  },
  {
   "cell_type": "markdown",
   "id": "819a0737",
   "metadata": {
    "papermill": {
     "duration": 0.006515,
     "end_time": "2024-12-04T19:33:15.738486",
     "exception": false,
     "start_time": "2024-12-04T19:33:15.731971",
     "status": "completed"
    },
    "tags": []
   },
   "source": [
    "> ***Clean dataset***"
   ]
  },
  {
   "cell_type": "code",
   "execution_count": 8,
   "id": "4b4051b4",
   "metadata": {
    "execution": {
     "iopub.execute_input": "2024-12-04T19:33:15.753431Z",
     "iopub.status.busy": "2024-12-04T19:33:15.752897Z",
     "iopub.status.idle": "2024-12-04T19:33:15.760255Z",
     "shell.execute_reply": "2024-12-04T19:33:15.758963Z"
    },
    "papermill": {
     "duration": 0.018065,
     "end_time": "2024-12-04T19:33:15.762865",
     "exception": false,
     "start_time": "2024-12-04T19:33:15.744800",
     "status": "completed"
    },
    "tags": []
   },
   "outputs": [],
   "source": [
    "def clean(data):\n",
    "    data.drop(['PassengerId','Name','Cabin','Embarked','Ticket','Fare'], axis=1,inplace=True)\n",
    "    data.Age = df.Age.fillna(df.Age.median())\n",
    "    data.dropna()\n",
    "    return data"
   ]
  },
  {
   "cell_type": "code",
   "execution_count": 9,
   "id": "d9c087da",
   "metadata": {
    "execution": {
     "iopub.execute_input": "2024-12-04T19:33:15.779022Z",
     "iopub.status.busy": "2024-12-04T19:33:15.778479Z",
     "iopub.status.idle": "2024-12-04T19:33:15.805536Z",
     "shell.execute_reply": "2024-12-04T19:33:15.804144Z"
    },
    "papermill": {
     "duration": 0.038297,
     "end_time": "2024-12-04T19:33:15.807967",
     "exception": false,
     "start_time": "2024-12-04T19:33:15.769670",
     "status": "completed"
    },
    "tags": []
   },
   "outputs": [
    {
     "data": {
      "text/html": [
       "<div>\n",
       "<style scoped>\n",
       "    .dataframe tbody tr th:only-of-type {\n",
       "        vertical-align: middle;\n",
       "    }\n",
       "\n",
       "    .dataframe tbody tr th {\n",
       "        vertical-align: top;\n",
       "    }\n",
       "\n",
       "    .dataframe thead th {\n",
       "        text-align: right;\n",
       "    }\n",
       "</style>\n",
       "<table border=\"1\" class=\"dataframe\">\n",
       "  <thead>\n",
       "    <tr style=\"text-align: right;\">\n",
       "      <th></th>\n",
       "      <th>Survived</th>\n",
       "      <th>Pclass</th>\n",
       "      <th>Sex</th>\n",
       "      <th>Age</th>\n",
       "      <th>SibSp</th>\n",
       "      <th>Parch</th>\n",
       "    </tr>\n",
       "  </thead>\n",
       "  <tbody>\n",
       "    <tr>\n",
       "      <th>0</th>\n",
       "      <td>0</td>\n",
       "      <td>3</td>\n",
       "      <td>male</td>\n",
       "      <td>22.0</td>\n",
       "      <td>1</td>\n",
       "      <td>0</td>\n",
       "    </tr>\n",
       "    <tr>\n",
       "      <th>1</th>\n",
       "      <td>1</td>\n",
       "      <td>1</td>\n",
       "      <td>female</td>\n",
       "      <td>38.0</td>\n",
       "      <td>1</td>\n",
       "      <td>0</td>\n",
       "    </tr>\n",
       "    <tr>\n",
       "      <th>2</th>\n",
       "      <td>1</td>\n",
       "      <td>3</td>\n",
       "      <td>female</td>\n",
       "      <td>26.0</td>\n",
       "      <td>0</td>\n",
       "      <td>0</td>\n",
       "    </tr>\n",
       "    <tr>\n",
       "      <th>3</th>\n",
       "      <td>1</td>\n",
       "      <td>1</td>\n",
       "      <td>female</td>\n",
       "      <td>35.0</td>\n",
       "      <td>1</td>\n",
       "      <td>0</td>\n",
       "    </tr>\n",
       "    <tr>\n",
       "      <th>4</th>\n",
       "      <td>0</td>\n",
       "      <td>3</td>\n",
       "      <td>male</td>\n",
       "      <td>35.0</td>\n",
       "      <td>0</td>\n",
       "      <td>0</td>\n",
       "    </tr>\n",
       "    <tr>\n",
       "      <th>...</th>\n",
       "      <td>...</td>\n",
       "      <td>...</td>\n",
       "      <td>...</td>\n",
       "      <td>...</td>\n",
       "      <td>...</td>\n",
       "      <td>...</td>\n",
       "    </tr>\n",
       "    <tr>\n",
       "      <th>886</th>\n",
       "      <td>0</td>\n",
       "      <td>2</td>\n",
       "      <td>male</td>\n",
       "      <td>27.0</td>\n",
       "      <td>0</td>\n",
       "      <td>0</td>\n",
       "    </tr>\n",
       "    <tr>\n",
       "      <th>887</th>\n",
       "      <td>1</td>\n",
       "      <td>1</td>\n",
       "      <td>female</td>\n",
       "      <td>19.0</td>\n",
       "      <td>0</td>\n",
       "      <td>0</td>\n",
       "    </tr>\n",
       "    <tr>\n",
       "      <th>888</th>\n",
       "      <td>0</td>\n",
       "      <td>3</td>\n",
       "      <td>female</td>\n",
       "      <td>28.0</td>\n",
       "      <td>1</td>\n",
       "      <td>2</td>\n",
       "    </tr>\n",
       "    <tr>\n",
       "      <th>889</th>\n",
       "      <td>1</td>\n",
       "      <td>1</td>\n",
       "      <td>male</td>\n",
       "      <td>26.0</td>\n",
       "      <td>0</td>\n",
       "      <td>0</td>\n",
       "    </tr>\n",
       "    <tr>\n",
       "      <th>890</th>\n",
       "      <td>0</td>\n",
       "      <td>3</td>\n",
       "      <td>male</td>\n",
       "      <td>32.0</td>\n",
       "      <td>0</td>\n",
       "      <td>0</td>\n",
       "    </tr>\n",
       "  </tbody>\n",
       "</table>\n",
       "<p>891 rows × 6 columns</p>\n",
       "</div>"
      ],
      "text/plain": [
       "     Survived  Pclass     Sex   Age  SibSp  Parch\n",
       "0           0       3    male  22.0      1      0\n",
       "1           1       1  female  38.0      1      0\n",
       "2           1       3  female  26.0      0      0\n",
       "3           1       1  female  35.0      1      0\n",
       "4           0       3    male  35.0      0      0\n",
       "..        ...     ...     ...   ...    ...    ...\n",
       "886         0       2    male  27.0      0      0\n",
       "887         1       1  female  19.0      0      0\n",
       "888         0       3  female  28.0      1      2\n",
       "889         1       1    male  26.0      0      0\n",
       "890         0       3    male  32.0      0      0\n",
       "\n",
       "[891 rows x 6 columns]"
      ]
     },
     "execution_count": 9,
     "metadata": {},
     "output_type": "execute_result"
    }
   ],
   "source": [
    "clean(df)"
   ]
  },
  {
   "cell_type": "code",
   "execution_count": 10,
   "id": "d67202de",
   "metadata": {
    "execution": {
     "iopub.execute_input": "2024-12-04T19:33:16.711264Z",
     "iopub.status.busy": "2024-12-04T19:33:16.710216Z",
     "iopub.status.idle": "2024-12-04T19:33:16.718943Z",
     "shell.execute_reply": "2024-12-04T19:33:16.717733Z"
    },
    "papermill": {
     "duration": 0.020323,
     "end_time": "2024-12-04T19:33:16.721221",
     "exception": false,
     "start_time": "2024-12-04T19:33:16.700898",
     "status": "completed"
    },
    "tags": []
   },
   "outputs": [
    {
     "data": {
      "text/plain": [
       "Sex\n",
       "male      577\n",
       "female    314\n",
       "Name: count, dtype: int64"
      ]
     },
     "execution_count": 10,
     "metadata": {},
     "output_type": "execute_result"
    }
   ],
   "source": [
    "df.Sex.value_counts()"
   ]
  },
  {
   "cell_type": "code",
   "execution_count": 11,
   "id": "dc43019e",
   "metadata": {
    "execution": {
     "iopub.execute_input": "2024-12-04T19:33:19.493857Z",
     "iopub.status.busy": "2024-12-04T19:33:19.493441Z",
     "iopub.status.idle": "2024-12-04T19:33:19.500052Z",
     "shell.execute_reply": "2024-12-04T19:33:19.498877Z"
    },
    "papermill": {
     "duration": 0.024478,
     "end_time": "2024-12-04T19:33:19.502214",
     "exception": false,
     "start_time": "2024-12-04T19:33:19.477736",
     "status": "completed"
    },
    "tags": []
   },
   "outputs": [],
   "source": [
    "df['Sex'] = df['Sex'].map({'male': 0, 'female': 1})"
   ]
  },
  {
   "cell_type": "code",
   "execution_count": 12,
   "id": "dd923c34",
   "metadata": {
    "execution": {
     "iopub.execute_input": "2024-12-04T19:33:19.532194Z",
     "iopub.status.busy": "2024-12-04T19:33:19.531766Z",
     "iopub.status.idle": "2024-12-04T19:33:19.544725Z",
     "shell.execute_reply": "2024-12-04T19:33:19.543288Z"
    },
    "papermill": {
     "duration": 0.031226,
     "end_time": "2024-12-04T19:33:19.547399",
     "exception": false,
     "start_time": "2024-12-04T19:33:19.516173",
     "status": "completed"
    },
    "tags": []
   },
   "outputs": [
    {
     "name": "stdout",
     "output_type": "stream",
     "text": [
      "<class 'pandas.core.frame.DataFrame'>\n",
      "RangeIndex: 891 entries, 0 to 890\n",
      "Data columns (total 6 columns):\n",
      " #   Column    Non-Null Count  Dtype  \n",
      "---  ------    --------------  -----  \n",
      " 0   Survived  891 non-null    int64  \n",
      " 1   Pclass    891 non-null    int64  \n",
      " 2   Sex       891 non-null    int64  \n",
      " 3   Age       891 non-null    float64\n",
      " 4   SibSp     891 non-null    int64  \n",
      " 5   Parch     891 non-null    int64  \n",
      "dtypes: float64(1), int64(5)\n",
      "memory usage: 41.9 KB\n"
     ]
    }
   ],
   "source": [
    "df.info()"
   ]
  },
  {
   "cell_type": "markdown",
   "id": "14de97ab",
   "metadata": {
    "papermill": {
     "duration": 0.013575,
     "end_time": "2024-12-04T19:33:19.575337",
     "exception": false,
     "start_time": "2024-12-04T19:33:19.561762",
     "status": "completed"
    },
    "tags": []
   },
   "source": [
    "> ***Identifing (X , y) train & (X , y) test***"
   ]
  },
  {
   "cell_type": "code",
   "execution_count": 13,
   "id": "1cc3bacd",
   "metadata": {
    "execution": {
     "iopub.execute_input": "2024-12-04T19:33:19.605437Z",
     "iopub.status.busy": "2024-12-04T19:33:19.605038Z",
     "iopub.status.idle": "2024-12-04T19:33:19.611335Z",
     "shell.execute_reply": "2024-12-04T19:33:19.610299Z"
    },
    "papermill": {
     "duration": 0.024434,
     "end_time": "2024-12-04T19:33:19.613914",
     "exception": false,
     "start_time": "2024-12-04T19:33:19.589480",
     "status": "completed"
    },
    "tags": []
   },
   "outputs": [],
   "source": [
    "X=df.drop(['Survived'],axis=1)\n",
    "y=df.Survived"
   ]
  },
  {
   "cell_type": "code",
   "execution_count": 14,
   "id": "0bcd3913",
   "metadata": {
    "execution": {
     "iopub.execute_input": "2024-12-04T19:33:19.644049Z",
     "iopub.status.busy": "2024-12-04T19:33:19.643678Z",
     "iopub.status.idle": "2024-12-04T19:33:19.655700Z",
     "shell.execute_reply": "2024-12-04T19:33:19.654414Z"
    },
    "papermill": {
     "duration": 0.03073,
     "end_time": "2024-12-04T19:33:19.658547",
     "exception": false,
     "start_time": "2024-12-04T19:33:19.627817",
     "status": "completed"
    },
    "tags": []
   },
   "outputs": [],
   "source": [
    "X_train,X_test,y_train,y_test = train_test_split(X, y, test_size=0.2 , stratify=y, random_state=42)"
   ]
  },
  {
   "cell_type": "code",
   "execution_count": 16,
   "id": "f41efb6f",
   "metadata": {
    "execution": {
     "iopub.execute_input": "2024-12-04T19:33:19.688958Z",
     "iopub.status.busy": "2024-12-04T19:33:19.688509Z",
     "iopub.status.idle": "2024-12-04T19:33:19.704915Z",
     "shell.execute_reply": "2024-12-04T19:33:19.703709Z"
    },
    "papermill": {
     "duration": 0.03457,
     "end_time": "2024-12-04T19:33:19.707118",
     "exception": false,
     "start_time": "2024-12-04T19:33:19.672548",
     "status": "completed"
    },
    "tags": []
   },
   "outputs": [],
   "source": [
    "m1=DecisionTreeClassifier()\n",
    "m1.fit(X_train,y_train)\n",
    "y_pred = m1.predict(X_test)\n"
   ]
  },
  {
   "cell_type": "markdown",
   "id": "5a76937d",
   "metadata": {},
   "source": [
    "# Accuracy_score"
   ]
  },
  {
   "cell_type": "code",
   "execution_count": 18,
   "id": "0b598f03",
   "metadata": {},
   "outputs": [
    {
     "data": {
      "text/plain": [
       "82.68156424581005"
      ]
     },
     "execution_count": 18,
     "metadata": {},
     "output_type": "execute_result"
    }
   ],
   "source": [
    "accuracy_score(y_test, y_pred)*100"
   ]
  },
  {
   "cell_type": "code",
   "execution_count": null,
   "id": "5368791f",
   "metadata": {},
   "outputs": [],
   "source": []
  }
 ],
 "metadata": {
  "kaggle": {
   "accelerator": "none",
   "dataSources": [
    {
     "databundleVersionId": 26502,
     "sourceId": 3136,
     "sourceType": "competition"
    }
   ],
   "isGpuEnabled": false,
   "isInternetEnabled": false,
   "language": "python",
   "sourceType": "notebook"
  },
  "kernelspec": {
   "display_name": "Python 3",
   "language": "python",
   "name": "python3"
  },
  "language_info": {
   "codemirror_mode": {
    "name": "ipython",
    "version": 3
   },
   "file_extension": ".py",
   "mimetype": "text/x-python",
   "name": "python",
   "nbconvert_exporter": "python",
   "pygments_lexer": "ipython3",
   "version": "3.12.8"
  },
  "papermill": {
   "default_parameters": {},
   "duration": 12.330748,
   "end_time": "2024-12-04T19:33:20.546610",
   "environment_variables": {},
   "exception": null,
   "input_path": "__notebook__.ipynb",
   "output_path": "__notebook__.ipynb",
   "parameters": {},
   "start_time": "2024-12-04T19:33:08.215862",
   "version": "2.6.0"
  }
 },
 "nbformat": 4,
 "nbformat_minor": 5
}
