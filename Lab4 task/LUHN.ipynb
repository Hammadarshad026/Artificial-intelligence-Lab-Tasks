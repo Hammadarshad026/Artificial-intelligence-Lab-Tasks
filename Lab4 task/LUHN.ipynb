{
 "cells": [
  {
   "cell_type": "code",
   "execution_count": 2,
   "metadata": {},
   "outputs": [
    {
     "name": "stdout",
     "output_type": "stream",
     "text": [
      "[4, 7, 8, 2, 7, 8, 0, 0, 0, 1, 6, 1, 6, 4, 0, 1] ---------------------------Card number\n",
      "[4, 7, 8, 2, 7, 8, 0, 0, 0, 1, 6, 1, 6, 4, 0] ----------------             Remove Last Digit\n",
      "[0, 4, 6, 1, 6, 1, 0, 0, 0, 8, 7, 2, 8, 7, 4] -----------------------Reverse the num\n",
      "[0, 8, 6, 2, 6, 2, 0, 0, 0, 16, 7, 4, 8, 14, 4] ----------------------Double the number at even position\n",
      "[0, 8, 6, 2, 6, 2, 0, 0, 0, 7, 7, 4, 8, 5, 4] --------------------Sub the num that is greater then 9\n",
      "[0, 8, 6, 2, 6, 2, 0, 0, 0, 7, 7, 4, 8, 5, 4, 1] -------------------Again Append Last Digit\n",
      "60 ------------------------Sum of all digits\n",
      "Your Card is valid\n"
     ]
    }
   ],
   "source": [
    "Card=[]\n",
    "user_input=input(\"Enter The Cradit Card 16 Number>\")\n",
    "for i in user_input:\n",
    "    Card.append(int(i))\n",
    "\n",
    "if len(Card)==16:\n",
    "    print(Card,'---------------------------Card number')\n",
    "\n",
    "    Last_digit=Card.pop(-1)\n",
    "    print(Card,\"----------------             Remove Last Digit\")\n",
    "\n",
    "    Card.reverse()\n",
    "    print(Card,\"-----------------------Reverse the num\" )\n",
    "\n",
    "    for  i in range(1 ,16):\n",
    "        if i%2==0:\n",
    "            Card[i-1]*=2\n",
    "    print(Card,\"----------------------Double the number at even position\")\n",
    "\n",
    "    for i in range(len(Card)):\n",
    "        if Card[i]>9:\n",
    "            Card[i]=Card[i]-9\n",
    "    print(Card,'--------------------Sub the num that is greater then 9')\n",
    "\n",
    "    Card.append(Last_digit)\n",
    "    print(Card,\"-------------------Again Append Last Digit\")\n",
    "\n",
    "    a=0\n",
    "    for i in range(len(Card)):\n",
    "        a+=Card[i]\n",
    "    print(a,'------------------------Sum of all digits')\n",
    "\n",
    "    if a%10==0:\n",
    "        print(\"Your Card is valid\")\n",
    "    else:\n",
    "        print(\"Your Card is Not Valid\")\n",
    "else:\n",
    "    print(\" Length of Card number must be 16 \")\n",
    "\n",
    "\n"
   ]
  },
  {
   "cell_type": "code",
   "execution_count": 3,
   "metadata": {},
   "outputs": [
    {
     "data": {
      "text/plain": [
       "4782780035496671"
      ]
     },
     "execution_count": 3,
     "metadata": {},
     "output_type": "execute_result"
    }
   ],
   "source": [
    "4782780035496671"
   ]
  },
  {
   "cell_type": "code",
   "execution_count": null,
   "metadata": {},
   "outputs": [],
   "source": [
    "4782780001616401"
   ]
  }
 ],
 "metadata": {
  "kernelspec": {
   "display_name": "Python 3",
   "language": "python",
   "name": "python3"
  },
  "language_info": {
   "codemirror_mode": {
    "name": "ipython",
    "version": 3
   },
   "file_extension": ".py",
   "mimetype": "text/x-python",
   "name": "python",
   "nbconvert_exporter": "python",
   "pygments_lexer": "ipython3",
   "version": "3.12.6"
  }
 },
 "nbformat": 4,
 "nbformat_minor": 2
}
